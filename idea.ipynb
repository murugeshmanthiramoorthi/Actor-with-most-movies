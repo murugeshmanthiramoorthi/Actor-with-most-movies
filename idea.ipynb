{
 "cells": [
  {
   "cell_type": "code",
   "execution_count": 21,
   "metadata": {},
   "outputs": [],
   "source": [
    "import numpy as np\n",
    "import pandas as pd\n",
    "movies=pd.read_csv(\"required_data.csv\")\n",
    "\n",
    "q1=movies[['id', 'genres','cast']]\n",
    "q2=movies[['id', 'cast', 'production_companies', 'year', 'revenue']]"
   ]
  },
  {
   "cell_type": "code",
   "execution_count": 2,
   "metadata": {},
   "outputs": [
    {
     "data": {
      "text/html": [
       "<div>\n",
       "<style scoped>\n",
       "    .dataframe tbody tr th:only-of-type {\n",
       "        vertical-align: middle;\n",
       "    }\n",
       "\n",
       "    .dataframe tbody tr th {\n",
       "        vertical-align: top;\n",
       "    }\n",
       "\n",
       "    .dataframe thead th {\n",
       "        text-align: right;\n",
       "    }\n",
       "</style>\n",
       "<table border=\"1\" class=\"dataframe\">\n",
       "  <thead>\n",
       "    <tr style=\"text-align: right;\">\n",
       "      <th></th>\n",
       "      <th>id</th>\n",
       "      <th>genres</th>\n",
       "      <th>cast</th>\n",
       "    </tr>\n",
       "  </thead>\n",
       "  <tbody>\n",
       "    <tr>\n",
       "      <th>0</th>\n",
       "      <td>19995</td>\n",
       "      <td>['Action', 'Adventure', 'Fantasy', 'ScienceFic...</td>\n",
       "      <td>['SamWorthington', 'ZoeSaldana', 'SigourneyWea...</td>\n",
       "    </tr>\n",
       "    <tr>\n",
       "      <th>1</th>\n",
       "      <td>285</td>\n",
       "      <td>['Adventure', 'Fantasy', 'Action']</td>\n",
       "      <td>['JohnnyDepp', 'OrlandoBloom', 'KeiraKnightley...</td>\n",
       "    </tr>\n",
       "    <tr>\n",
       "      <th>2</th>\n",
       "      <td>206647</td>\n",
       "      <td>['Action', 'Adventure', 'Crime']</td>\n",
       "      <td>['DanielCraig', 'ChristophWaltz', 'LéaSeydoux'...</td>\n",
       "    </tr>\n",
       "    <tr>\n",
       "      <th>3</th>\n",
       "      <td>49026</td>\n",
       "      <td>['Action', 'Crime', 'Drama', 'Thriller']</td>\n",
       "      <td>['ChristianBale', 'MichaelCaine', 'GaryOldman'...</td>\n",
       "    </tr>\n",
       "    <tr>\n",
       "      <th>4</th>\n",
       "      <td>49529</td>\n",
       "      <td>['Action', 'Adventure', 'ScienceFiction']</td>\n",
       "      <td>['TaylorKitsch', 'LynnCollins', 'SamanthaMorto...</td>\n",
       "    </tr>\n",
       "  </tbody>\n",
       "</table>\n",
       "</div>"
      ],
      "text/plain": [
       "       id                                             genres  \\\n",
       "0   19995  ['Action', 'Adventure', 'Fantasy', 'ScienceFic...   \n",
       "1     285                 ['Adventure', 'Fantasy', 'Action']   \n",
       "2  206647                   ['Action', 'Adventure', 'Crime']   \n",
       "3   49026           ['Action', 'Crime', 'Drama', 'Thriller']   \n",
       "4   49529          ['Action', 'Adventure', 'ScienceFiction']   \n",
       "\n",
       "                                                cast  \n",
       "0  ['SamWorthington', 'ZoeSaldana', 'SigourneyWea...  \n",
       "1  ['JohnnyDepp', 'OrlandoBloom', 'KeiraKnightley...  \n",
       "2  ['DanielCraig', 'ChristophWaltz', 'LéaSeydoux'...  \n",
       "3  ['ChristianBale', 'MichaelCaine', 'GaryOldman'...  \n",
       "4  ['TaylorKitsch', 'LynnCollins', 'SamanthaMorto...  "
      ]
     },
     "execution_count": 2,
     "metadata": {},
     "output_type": "execute_result"
    }
   ],
   "source": [
    "q1.head()"
   ]
  },
  {
   "cell_type": "code",
   "execution_count": 3,
   "metadata": {},
   "outputs": [
    {
     "name": "stderr",
     "output_type": "stream",
     "text": [
      "D:\\Anaconda\\lib\\site-packages\\ipykernel_launcher.py:1: SettingWithCopyWarning: \n",
      "A value is trying to be set on a copy of a slice from a DataFrame.\n",
      "Try using .loc[row_indexer,col_indexer] = value instead\n",
      "\n",
      "See the caveats in the documentation: http://pandas.pydata.org/pandas-docs/stable/indexing.html#indexing-view-versus-copy\n",
      "  \"\"\"Entry point for launching an IPython kernel.\n"
     ]
    }
   ],
   "source": [
    "q1['genres']=q1['genres'].str.strip('[]').str.replace(' ','').str.replace(\"'\",'').str.replace('\"','')\n",
    "# q1['genres']=q1['genres'].str.split(',')"
   ]
  },
  {
   "cell_type": "code",
   "execution_count": 4,
   "metadata": {},
   "outputs": [],
   "source": [
    "from pandas import Series, DataFrame\n",
    "\n",
    "s = q1['genres'].str.split(\",\").apply(Series, 1).stack()\n",
    "s.index = s.index.droplevel(-1)\n",
    "s.name = 'genres'\n",
    "del q1['genres']\n",
    "q1 = q1.join(s)"
   ]
  },
  {
   "cell_type": "code",
   "execution_count": 5,
   "metadata": {},
   "outputs": [
    {
     "data": {
      "text/html": [
       "<div>\n",
       "<style scoped>\n",
       "    .dataframe tbody tr th:only-of-type {\n",
       "        vertical-align: middle;\n",
       "    }\n",
       "\n",
       "    .dataframe tbody tr th {\n",
       "        vertical-align: top;\n",
       "    }\n",
       "\n",
       "    .dataframe thead th {\n",
       "        text-align: right;\n",
       "    }\n",
       "</style>\n",
       "<table border=\"1\" class=\"dataframe\">\n",
       "  <thead>\n",
       "    <tr style=\"text-align: right;\">\n",
       "      <th></th>\n",
       "      <th>id</th>\n",
       "      <th>cast</th>\n",
       "      <th>genres</th>\n",
       "    </tr>\n",
       "  </thead>\n",
       "  <tbody>\n",
       "    <tr>\n",
       "      <th>0</th>\n",
       "      <td>19995</td>\n",
       "      <td>['SamWorthington', 'ZoeSaldana', 'SigourneyWea...</td>\n",
       "      <td>Action</td>\n",
       "    </tr>\n",
       "    <tr>\n",
       "      <th>0</th>\n",
       "      <td>19995</td>\n",
       "      <td>['SamWorthington', 'ZoeSaldana', 'SigourneyWea...</td>\n",
       "      <td>Adventure</td>\n",
       "    </tr>\n",
       "    <tr>\n",
       "      <th>0</th>\n",
       "      <td>19995</td>\n",
       "      <td>['SamWorthington', 'ZoeSaldana', 'SigourneyWea...</td>\n",
       "      <td>Fantasy</td>\n",
       "    </tr>\n",
       "    <tr>\n",
       "      <th>0</th>\n",
       "      <td>19995</td>\n",
       "      <td>['SamWorthington', 'ZoeSaldana', 'SigourneyWea...</td>\n",
       "      <td>ScienceFiction</td>\n",
       "    </tr>\n",
       "    <tr>\n",
       "      <th>1</th>\n",
       "      <td>285</td>\n",
       "      <td>['JohnnyDepp', 'OrlandoBloom', 'KeiraKnightley...</td>\n",
       "      <td>Adventure</td>\n",
       "    </tr>\n",
       "  </tbody>\n",
       "</table>\n",
       "</div>"
      ],
      "text/plain": [
       "      id                                               cast          genres\n",
       "0  19995  ['SamWorthington', 'ZoeSaldana', 'SigourneyWea...          Action\n",
       "0  19995  ['SamWorthington', 'ZoeSaldana', 'SigourneyWea...       Adventure\n",
       "0  19995  ['SamWorthington', 'ZoeSaldana', 'SigourneyWea...         Fantasy\n",
       "0  19995  ['SamWorthington', 'ZoeSaldana', 'SigourneyWea...  ScienceFiction\n",
       "1    285  ['JohnnyDepp', 'OrlandoBloom', 'KeiraKnightley...       Adventure"
      ]
     },
     "execution_count": 5,
     "metadata": {},
     "output_type": "execute_result"
    }
   ],
   "source": [
    "q1.head()"
   ]
  },
  {
   "cell_type": "code",
   "execution_count": 6,
   "metadata": {},
   "outputs": [
    {
     "data": {
      "text/html": [
       "<div>\n",
       "<style scoped>\n",
       "    .dataframe tbody tr th:only-of-type {\n",
       "        vertical-align: middle;\n",
       "    }\n",
       "\n",
       "    .dataframe tbody tr th {\n",
       "        vertical-align: top;\n",
       "    }\n",
       "\n",
       "    .dataframe thead th {\n",
       "        text-align: right;\n",
       "    }\n",
       "</style>\n",
       "<table border=\"1\" class=\"dataframe\">\n",
       "  <thead>\n",
       "    <tr style=\"text-align: right;\">\n",
       "      <th></th>\n",
       "      <th>id</th>\n",
       "      <th>cast</th>\n",
       "      <th>genres</th>\n",
       "    </tr>\n",
       "  </thead>\n",
       "  <tbody>\n",
       "    <tr>\n",
       "      <th>0</th>\n",
       "      <td>19995</td>\n",
       "      <td>SamWorthington,ZoeSaldana,SigourneyWeaver,Step...</td>\n",
       "      <td>Action</td>\n",
       "    </tr>\n",
       "    <tr>\n",
       "      <th>0</th>\n",
       "      <td>19995</td>\n",
       "      <td>SamWorthington,ZoeSaldana,SigourneyWeaver,Step...</td>\n",
       "      <td>Adventure</td>\n",
       "    </tr>\n",
       "    <tr>\n",
       "      <th>0</th>\n",
       "      <td>19995</td>\n",
       "      <td>SamWorthington,ZoeSaldana,SigourneyWeaver,Step...</td>\n",
       "      <td>Fantasy</td>\n",
       "    </tr>\n",
       "    <tr>\n",
       "      <th>0</th>\n",
       "      <td>19995</td>\n",
       "      <td>SamWorthington,ZoeSaldana,SigourneyWeaver,Step...</td>\n",
       "      <td>ScienceFiction</td>\n",
       "    </tr>\n",
       "    <tr>\n",
       "      <th>1</th>\n",
       "      <td>285</td>\n",
       "      <td>JohnnyDepp,OrlandoBloom,KeiraKnightley,Stellan...</td>\n",
       "      <td>Adventure</td>\n",
       "    </tr>\n",
       "  </tbody>\n",
       "</table>\n",
       "</div>"
      ],
      "text/plain": [
       "      id                                               cast          genres\n",
       "0  19995  SamWorthington,ZoeSaldana,SigourneyWeaver,Step...          Action\n",
       "0  19995  SamWorthington,ZoeSaldana,SigourneyWeaver,Step...       Adventure\n",
       "0  19995  SamWorthington,ZoeSaldana,SigourneyWeaver,Step...         Fantasy\n",
       "0  19995  SamWorthington,ZoeSaldana,SigourneyWeaver,Step...  ScienceFiction\n",
       "1    285  JohnnyDepp,OrlandoBloom,KeiraKnightley,Stellan...       Adventure"
      ]
     },
     "execution_count": 6,
     "metadata": {},
     "output_type": "execute_result"
    }
   ],
   "source": [
    "q1['cast']=q1['cast'].str.strip('[]').str.replace(' ','').str.replace(\"'\",'').str.replace('\"','')\n",
    "q1.head()"
   ]
  },
  {
   "cell_type": "code",
   "execution_count": 7,
   "metadata": {},
   "outputs": [],
   "source": [
    "s1 = q1['cast'].str.split(\",\").apply(Series, 1).stack()\n",
    "s1.index = s1.index.droplevel(-1)\n",
    "s1.name = 'cast'\n",
    "del q1['cast']\n",
    "q1 = q1.join(s1)"
   ]
  },
  {
   "cell_type": "code",
   "execution_count": 8,
   "metadata": {},
   "outputs": [
    {
     "data": {
      "text/html": [
       "<div>\n",
       "<style scoped>\n",
       "    .dataframe tbody tr th:only-of-type {\n",
       "        vertical-align: middle;\n",
       "    }\n",
       "\n",
       "    .dataframe tbody tr th {\n",
       "        vertical-align: top;\n",
       "    }\n",
       "\n",
       "    .dataframe thead th {\n",
       "        text-align: right;\n",
       "    }\n",
       "</style>\n",
       "<table border=\"1\" class=\"dataframe\">\n",
       "  <thead>\n",
       "    <tr style=\"text-align: right;\">\n",
       "      <th></th>\n",
       "      <th>id</th>\n",
       "      <th>genres</th>\n",
       "      <th>cast</th>\n",
       "    </tr>\n",
       "  </thead>\n",
       "  <tbody>\n",
       "    <tr>\n",
       "      <th>0</th>\n",
       "      <td>19995</td>\n",
       "      <td>Action</td>\n",
       "      <td>SamWorthington</td>\n",
       "    </tr>\n",
       "  </tbody>\n",
       "</table>\n",
       "</div>"
      ],
      "text/plain": [
       "      id  genres            cast\n",
       "0  19995  Action  SamWorthington"
      ]
     },
     "execution_count": 8,
     "metadata": {},
     "output_type": "execute_result"
    }
   ],
   "source": [
    "q1.head(1)"
   ]
  },
  {
   "cell_type": "code",
   "execution_count": 9,
   "metadata": {},
   "outputs": [],
   "source": [
    "list1=q1[q1['genres'] == 'Action'].groupby('cast')['id'].count()"
   ]
  },
  {
   "cell_type": "code",
   "execution_count": 10,
   "metadata": {
    "scrolled": true
   },
   "outputs": [
    {
     "data": {
      "text/plain": [
       "cast\n",
       "SamuelL.Jackson         123\n",
       "BruceWillis              92\n",
       "ArnoldSchwarzenegger     83\n",
       "StanLee                  75\n",
       "NicolasCage              71\n",
       "SylvesterStallone        71\n",
       "Jr.                      69\n",
       "DwayneJohnson            68\n",
       "JasonStatham             65\n",
       "PeterStormare            62\n",
       "Name: id, dtype: int64"
      ]
     },
     "execution_count": 10,
     "metadata": {},
     "output_type": "execute_result"
    }
   ],
   "source": [
    "list1.sort_values(ascending=False)[:10]"
   ]
  },
  {
   "cell_type": "markdown",
   "metadata": {},
   "source": [
    "Samuel L Jackson has done the most number of action movies. "
   ]
  },
  {
   "cell_type": "code",
   "execution_count": 11,
   "metadata": {},
   "outputs": [
    {
     "data": {
      "text/html": [
       "<div>\n",
       "<style scoped>\n",
       "    .dataframe tbody tr th:only-of-type {\n",
       "        vertical-align: middle;\n",
       "    }\n",
       "\n",
       "    .dataframe tbody tr th {\n",
       "        vertical-align: top;\n",
       "    }\n",
       "\n",
       "    .dataframe thead th {\n",
       "        text-align: right;\n",
       "    }\n",
       "</style>\n",
       "<table border=\"1\" class=\"dataframe\">\n",
       "  <thead>\n",
       "    <tr style=\"text-align: right;\">\n",
       "      <th></th>\n",
       "      <th>id</th>\n",
       "      <th>cast</th>\n",
       "      <th>production_companies</th>\n",
       "      <th>year</th>\n",
       "      <th>revenue</th>\n",
       "    </tr>\n",
       "  </thead>\n",
       "  <tbody>\n",
       "    <tr>\n",
       "      <th>0</th>\n",
       "      <td>19995</td>\n",
       "      <td>['SamWorthington', 'ZoeSaldana', 'SigourneyWea...</td>\n",
       "      <td>['IngeniousFilmPartners', 'TwentiethCenturyFox...</td>\n",
       "      <td>2009</td>\n",
       "      <td>2787965087</td>\n",
       "    </tr>\n",
       "    <tr>\n",
       "      <th>1</th>\n",
       "      <td>285</td>\n",
       "      <td>['JohnnyDepp', 'OrlandoBloom', 'KeiraKnightley...</td>\n",
       "      <td>['WaltDisneyPictures', 'JerryBruckheimerFilms'...</td>\n",
       "      <td>2007</td>\n",
       "      <td>961000000</td>\n",
       "    </tr>\n",
       "    <tr>\n",
       "      <th>2</th>\n",
       "      <td>206647</td>\n",
       "      <td>['DanielCraig', 'ChristophWaltz', 'LéaSeydoux'...</td>\n",
       "      <td>['ColumbiaPictures', 'Danjaq', 'B24']</td>\n",
       "      <td>2015</td>\n",
       "      <td>880674609</td>\n",
       "    </tr>\n",
       "    <tr>\n",
       "      <th>3</th>\n",
       "      <td>49026</td>\n",
       "      <td>['ChristianBale', 'MichaelCaine', 'GaryOldman'...</td>\n",
       "      <td>['LegendaryPictures', 'WarnerBros.', 'DCEntert...</td>\n",
       "      <td>2012</td>\n",
       "      <td>1084939099</td>\n",
       "    </tr>\n",
       "    <tr>\n",
       "      <th>4</th>\n",
       "      <td>49529</td>\n",
       "      <td>['TaylorKitsch', 'LynnCollins', 'SamanthaMorto...</td>\n",
       "      <td>['WaltDisneyPictures']</td>\n",
       "      <td>2012</td>\n",
       "      <td>284139100</td>\n",
       "    </tr>\n",
       "  </tbody>\n",
       "</table>\n",
       "</div>"
      ],
      "text/plain": [
       "       id                                               cast  \\\n",
       "0   19995  ['SamWorthington', 'ZoeSaldana', 'SigourneyWea...   \n",
       "1     285  ['JohnnyDepp', 'OrlandoBloom', 'KeiraKnightley...   \n",
       "2  206647  ['DanielCraig', 'ChristophWaltz', 'LéaSeydoux'...   \n",
       "3   49026  ['ChristianBale', 'MichaelCaine', 'GaryOldman'...   \n",
       "4   49529  ['TaylorKitsch', 'LynnCollins', 'SamanthaMorto...   \n",
       "\n",
       "                                production_companies  year     revenue  \n",
       "0  ['IngeniousFilmPartners', 'TwentiethCenturyFox...  2009  2787965087  \n",
       "1  ['WaltDisneyPictures', 'JerryBruckheimerFilms'...  2007   961000000  \n",
       "2              ['ColumbiaPictures', 'Danjaq', 'B24']  2015   880674609  \n",
       "3  ['LegendaryPictures', 'WarnerBros.', 'DCEntert...  2012  1084939099  \n",
       "4                             ['WaltDisneyPictures']  2012   284139100  "
      ]
     },
     "execution_count": 11,
     "metadata": {},
     "output_type": "execute_result"
    }
   ],
   "source": [
    "q2.head()"
   ]
  },
  {
   "cell_type": "code",
   "execution_count": 22,
   "metadata": {},
   "outputs": [
    {
     "name": "stderr",
     "output_type": "stream",
     "text": [
      "D:\\Anaconda\\lib\\site-packages\\ipykernel_launcher.py:1: SettingWithCopyWarning: \n",
      "A value is trying to be set on a copy of a slice from a DataFrame.\n",
      "Try using .loc[row_indexer,col_indexer] = value instead\n",
      "\n",
      "See the caveats in the documentation: http://pandas.pydata.org/pandas-docs/stable/indexing.html#indexing-view-versus-copy\n",
      "  \"\"\"Entry point for launching an IPython kernel.\n"
     ]
    }
   ],
   "source": [
    "q2['production_companies']=q2['production_companies'].str.strip('[]').str.replace(' ','').str.replace(\"'\",'').str.replace('\"','')"
   ]
  },
  {
   "cell_type": "code",
   "execution_count": 24,
   "metadata": {},
   "outputs": [
    {
     "data": {
      "text/html": [
       "<div>\n",
       "<style scoped>\n",
       "    .dataframe tbody tr th:only-of-type {\n",
       "        vertical-align: middle;\n",
       "    }\n",
       "\n",
       "    .dataframe tbody tr th {\n",
       "        vertical-align: top;\n",
       "    }\n",
       "\n",
       "    .dataframe thead th {\n",
       "        text-align: right;\n",
       "    }\n",
       "</style>\n",
       "<table border=\"1\" class=\"dataframe\">\n",
       "  <thead>\n",
       "    <tr style=\"text-align: right;\">\n",
       "      <th></th>\n",
       "      <th>id</th>\n",
       "      <th>cast</th>\n",
       "      <th>year</th>\n",
       "      <th>revenue</th>\n",
       "      <th>production_companies</th>\n",
       "    </tr>\n",
       "  </thead>\n",
       "  <tbody>\n",
       "    <tr>\n",
       "      <th>0</th>\n",
       "      <td>19995</td>\n",
       "      <td>SamWorthington,ZoeSaldana,SigourneyWeaver,Step...</td>\n",
       "      <td>2009</td>\n",
       "      <td>2787965087</td>\n",
       "      <td>IngeniousFilmPartners</td>\n",
       "    </tr>\n",
       "    <tr>\n",
       "      <th>0</th>\n",
       "      <td>19995</td>\n",
       "      <td>SamWorthington,ZoeSaldana,SigourneyWeaver,Step...</td>\n",
       "      <td>2009</td>\n",
       "      <td>2787965087</td>\n",
       "      <td>TwentiethCenturyFoxFilmCorporation</td>\n",
       "    </tr>\n",
       "    <tr>\n",
       "      <th>0</th>\n",
       "      <td>19995</td>\n",
       "      <td>SamWorthington,ZoeSaldana,SigourneyWeaver,Step...</td>\n",
       "      <td>2009</td>\n",
       "      <td>2787965087</td>\n",
       "      <td>DuneEntertainment</td>\n",
       "    </tr>\n",
       "    <tr>\n",
       "      <th>0</th>\n",
       "      <td>19995</td>\n",
       "      <td>SamWorthington,ZoeSaldana,SigourneyWeaver,Step...</td>\n",
       "      <td>2009</td>\n",
       "      <td>2787965087</td>\n",
       "      <td>LightstormEntertainment</td>\n",
       "    </tr>\n",
       "    <tr>\n",
       "      <th>1</th>\n",
       "      <td>285</td>\n",
       "      <td>JohnnyDepp,OrlandoBloom,KeiraKnightley,Stellan...</td>\n",
       "      <td>2007</td>\n",
       "      <td>961000000</td>\n",
       "      <td>WaltDisneyPictures</td>\n",
       "    </tr>\n",
       "  </tbody>\n",
       "</table>\n",
       "</div>"
      ],
      "text/plain": [
       "      id                                               cast  year     revenue  \\\n",
       "0  19995  SamWorthington,ZoeSaldana,SigourneyWeaver,Step...  2009  2787965087   \n",
       "0  19995  SamWorthington,ZoeSaldana,SigourneyWeaver,Step...  2009  2787965087   \n",
       "0  19995  SamWorthington,ZoeSaldana,SigourneyWeaver,Step...  2009  2787965087   \n",
       "0  19995  SamWorthington,ZoeSaldana,SigourneyWeaver,Step...  2009  2787965087   \n",
       "1    285  JohnnyDepp,OrlandoBloom,KeiraKnightley,Stellan...  2007   961000000   \n",
       "\n",
       "                 production_companies  \n",
       "0               IngeniousFilmPartners  \n",
       "0  TwentiethCenturyFoxFilmCorporation  \n",
       "0                   DuneEntertainment  \n",
       "0             LightstormEntertainment  \n",
       "1                  WaltDisneyPictures  "
      ]
     },
     "execution_count": 24,
     "metadata": {},
     "output_type": "execute_result"
    }
   ],
   "source": [
    "q2['cast']=q2['cast'].str.strip('[]').str.replace(' ','').str.replace(\"'\",'').str.replace('\"','')\n",
    "q2.head()"
   ]
  },
  {
   "cell_type": "code",
   "execution_count": 25,
   "metadata": {},
   "outputs": [],
   "source": [
    "s3 = q2['cast'].str.split(\",\").apply(Series, 1).stack()\n",
    "s3.index = s3.index.droplevel(-1)\n",
    "s3.name = 'cast'\n",
    "del q2['cast']\n",
    "q2 = q2.join(s3)"
   ]
  },
  {
   "cell_type": "code",
   "execution_count": 23,
   "metadata": {},
   "outputs": [],
   "source": [
    "s4 = q2['production_companies'].str.split(\",\").apply(Series, 1).stack()\n",
    "s4.index = s4.index.droplevel(-1)\n",
    "s4.name = 'production_companies'\n",
    "del q2['production_companies']\n",
    "q2 = q2.join(s4)"
   ]
  },
  {
   "cell_type": "code",
   "execution_count": 26,
   "metadata": {},
   "outputs": [
    {
     "data": {
      "text/html": [
       "<div>\n",
       "<style scoped>\n",
       "    .dataframe tbody tr th:only-of-type {\n",
       "        vertical-align: middle;\n",
       "    }\n",
       "\n",
       "    .dataframe tbody tr th {\n",
       "        vertical-align: top;\n",
       "    }\n",
       "\n",
       "    .dataframe thead th {\n",
       "        text-align: right;\n",
       "    }\n",
       "</style>\n",
       "<table border=\"1\" class=\"dataframe\">\n",
       "  <thead>\n",
       "    <tr style=\"text-align: right;\">\n",
       "      <th></th>\n",
       "      <th>id</th>\n",
       "      <th>year</th>\n",
       "      <th>revenue</th>\n",
       "      <th>production_companies</th>\n",
       "      <th>cast</th>\n",
       "    </tr>\n",
       "  </thead>\n",
       "  <tbody>\n",
       "    <tr>\n",
       "      <th>0</th>\n",
       "      <td>19995</td>\n",
       "      <td>2009</td>\n",
       "      <td>2787965087</td>\n",
       "      <td>IngeniousFilmPartners</td>\n",
       "      <td>SamWorthington</td>\n",
       "    </tr>\n",
       "    <tr>\n",
       "      <th>0</th>\n",
       "      <td>19995</td>\n",
       "      <td>2009</td>\n",
       "      <td>2787965087</td>\n",
       "      <td>IngeniousFilmPartners</td>\n",
       "      <td>ZoeSaldana</td>\n",
       "    </tr>\n",
       "    <tr>\n",
       "      <th>0</th>\n",
       "      <td>19995</td>\n",
       "      <td>2009</td>\n",
       "      <td>2787965087</td>\n",
       "      <td>IngeniousFilmPartners</td>\n",
       "      <td>SigourneyWeaver</td>\n",
       "    </tr>\n",
       "    <tr>\n",
       "      <th>0</th>\n",
       "      <td>19995</td>\n",
       "      <td>2009</td>\n",
       "      <td>2787965087</td>\n",
       "      <td>IngeniousFilmPartners</td>\n",
       "      <td>StephenLang</td>\n",
       "    </tr>\n",
       "    <tr>\n",
       "      <th>0</th>\n",
       "      <td>19995</td>\n",
       "      <td>2009</td>\n",
       "      <td>2787965087</td>\n",
       "      <td>IngeniousFilmPartners</td>\n",
       "      <td>MichelleRodriguez</td>\n",
       "    </tr>\n",
       "  </tbody>\n",
       "</table>\n",
       "</div>"
      ],
      "text/plain": [
       "      id  year     revenue   production_companies               cast\n",
       "0  19995  2009  2787965087  IngeniousFilmPartners     SamWorthington\n",
       "0  19995  2009  2787965087  IngeniousFilmPartners         ZoeSaldana\n",
       "0  19995  2009  2787965087  IngeniousFilmPartners    SigourneyWeaver\n",
       "0  19995  2009  2787965087  IngeniousFilmPartners        StephenLang\n",
       "0  19995  2009  2787965087  IngeniousFilmPartners  MichelleRodriguez"
      ]
     },
     "execution_count": 26,
     "metadata": {},
     "output_type": "execute_result"
    }
   ],
   "source": [
    "q2_2000 = q2[q2['year']>2000]\n",
    "q2.head()"
   ]
  },
  {
   "cell_type": "code",
   "execution_count": 27,
   "metadata": {},
   "outputs": [
    {
     "data": {
      "text/html": [
       "<div>\n",
       "<style scoped>\n",
       "    .dataframe tbody tr th:only-of-type {\n",
       "        vertical-align: middle;\n",
       "    }\n",
       "\n",
       "    .dataframe tbody tr th {\n",
       "        vertical-align: top;\n",
       "    }\n",
       "\n",
       "    .dataframe thead th {\n",
       "        text-align: right;\n",
       "    }\n",
       "</style>\n",
       "<table border=\"1\" class=\"dataframe\">\n",
       "  <thead>\n",
       "    <tr style=\"text-align: right;\">\n",
       "      <th></th>\n",
       "      <th>id</th>\n",
       "      <th>year</th>\n",
       "      <th>revenue</th>\n",
       "      <th>production_companies</th>\n",
       "      <th>cast</th>\n",
       "    </tr>\n",
       "  </thead>\n",
       "  <tbody>\n",
       "    <tr>\n",
       "      <th>0</th>\n",
       "      <td>19995</td>\n",
       "      <td>2009</td>\n",
       "      <td>2787965087</td>\n",
       "      <td>IngeniousFilmPartners</td>\n",
       "      <td>SamWorthington</td>\n",
       "    </tr>\n",
       "    <tr>\n",
       "      <th>0</th>\n",
       "      <td>19995</td>\n",
       "      <td>2009</td>\n",
       "      <td>2787965087</td>\n",
       "      <td>IngeniousFilmPartners</td>\n",
       "      <td>ZoeSaldana</td>\n",
       "    </tr>\n",
       "    <tr>\n",
       "      <th>0</th>\n",
       "      <td>19995</td>\n",
       "      <td>2009</td>\n",
       "      <td>2787965087</td>\n",
       "      <td>IngeniousFilmPartners</td>\n",
       "      <td>SigourneyWeaver</td>\n",
       "    </tr>\n",
       "    <tr>\n",
       "      <th>0</th>\n",
       "      <td>19995</td>\n",
       "      <td>2009</td>\n",
       "      <td>2787965087</td>\n",
       "      <td>IngeniousFilmPartners</td>\n",
       "      <td>StephenLang</td>\n",
       "    </tr>\n",
       "    <tr>\n",
       "      <th>0</th>\n",
       "      <td>19995</td>\n",
       "      <td>2009</td>\n",
       "      <td>2787965087</td>\n",
       "      <td>IngeniousFilmPartners</td>\n",
       "      <td>MichelleRodriguez</td>\n",
       "    </tr>\n",
       "  </tbody>\n",
       "</table>\n",
       "</div>"
      ],
      "text/plain": [
       "      id  year     revenue   production_companies               cast\n",
       "0  19995  2009  2787965087  IngeniousFilmPartners     SamWorthington\n",
       "0  19995  2009  2787965087  IngeniousFilmPartners         ZoeSaldana\n",
       "0  19995  2009  2787965087  IngeniousFilmPartners    SigourneyWeaver\n",
       "0  19995  2009  2787965087  IngeniousFilmPartners        StephenLang\n",
       "0  19995  2009  2787965087  IngeniousFilmPartners  MichelleRodriguez"
      ]
     },
     "execution_count": 27,
     "metadata": {},
     "output_type": "execute_result"
    }
   ],
   "source": [
    "q2_2000.head()"
   ]
  },
  {
   "cell_type": "code",
   "execution_count": 28,
   "metadata": {},
   "outputs": [],
   "source": [
    "list2=q2_2000[q2_2000['cast']== 'WillSmith'].groupby('production_companies')['revenue'].sum()"
   ]
  },
  {
   "cell_type": "code",
   "execution_count": 29,
   "metadata": {},
   "outputs": [
    {
     "data": {
      "text/plain": [
       "production_companies\n",
       "OverbrookEntertainment                         13332419318\n",
       "WeedRoadPictures                                7972700350\n",
       "ColumbiaPictures                                7841863694\n",
       "WarnerBros.                                     7329494753\n",
       "RelativityMedia                                 6269185541\n",
       "HeydayFilms                                     5844959103\n",
       "AmblinEntertainment                             4887409092\n",
       "ForwardPass                                     4368205597\n",
       "BlueLight                                       4368205597\n",
       "GHThree                                         4368205597\n",
       "ColumbiaPicturesCorporation                     4366178169\n",
       "VillageRoadshowPictures                         3906677493\n",
       "DCEntertainment                                 3725000000\n",
       "DuneEntertainment                               3725000000\n",
       "DCComics                                        3725000000\n",
       "AtlasEntertainment                              3725000000\n",
       "OriginalFilm                                    3512094060\n",
       "HemisphereMediaCapital                          3120133880\n",
       "ImagenationAbuDhabiFZ                           3120133880\n",
       "Parkes/MacDonaldProductions                     3120133880\n",
       "MediaMagikEntertainment                         3120133880\n",
       "Ciné+                                           2332865043\n",
       "Canal+                                          2332865043\n",
       "AntonCapitalEntertainment(ACE)                  2332865043\n",
       "AmazonPrimeInstantVideo                         2332865043\n",
       "TheWeinsteinCompany                             2332865043\n",
       "TF1FilmsProduction                              2332865043\n",
       "TF1                                             2332865043\n",
       "StudioCanal                                     2332865043\n",
       "DavisEntertainment                              2083409496\n",
       "LaurenceMarkProductions                         2083409496\n",
       "MediastreamVierteFilmGmbH&Co.VermarktungsKG     2083409496\n",
       "TwentiethCenturyFoxFilmCorporation              2083409496\n",
       "CanlawsProductions                              2083409496\n",
       "EscapeArtists                                   1900979944\n",
       "Parkes+MacDonaldImageNation                     1767275212\n",
       "DreamWorksAnimation                             1101825057\n",
       "DreamWorksSKG                                   1101825057\n",
       "PacificDataImages(PDI)                          1101825057\n",
       "BlindingEdgePictures                             731529381\n",
       "DonSimpson/JerryBruckheimerFilms                 546679112\n",
       "ParamountPictures                                520947045\n",
       "ApatowProductions                                520947045\n",
       "GarySanchezProductions                           520947045\n",
       "RatPac-DuneEntertainment                         461888889\n",
       "Kramer&SigmanFilms                               461888889\n",
       "ZaftigFilms                                      461888889\n",
       "LStarCapital                                     302182740\n",
       "TheShumanCompany                                 302182740\n",
       "TheCantillonCompany                              302182740\n",
       "ScottFreeProductions                             302182740\n",
       "BeverlyDetroit                                   144393528\n",
       "CloseCallFilms                                   144393528\n",
       "MiramaxFilms                                     144393528\n",
       "ViewAskewProductions                             144393528\n",
       "Name: revenue, dtype: int64"
      ]
     },
     "execution_count": 29,
     "metadata": {},
     "output_type": "execute_result"
    }
   ],
   "source": [
    "list2.sort_values(ascending=False)"
   ]
  },
  {
   "cell_type": "markdown",
   "metadata": {},
   "source": [
    "The total revenue of movies produced by \"Twentieth Century Fox Film Corporation\" that were released after the year 2000 and had the actor Will Smith in it is $7291933236"
   ]
  },
  {
   "cell_type": "code",
   "execution_count": null,
   "metadata": {},
   "outputs": [],
   "source": []
  }
 ],
 "metadata": {
  "kernelspec": {
   "display_name": "Python 3",
   "language": "python",
   "name": "python3"
  },
  "language_info": {
   "codemirror_mode": {
    "name": "ipython",
    "version": 3
   },
   "file_extension": ".py",
   "mimetype": "text/x-python",
   "name": "python",
   "nbconvert_exporter": "python",
   "pygments_lexer": "ipython3",
   "version": "3.7.3"
  }
 },
 "nbformat": 4,
 "nbformat_minor": 2
}
